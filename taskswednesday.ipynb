{
 "cells": [
  {
   "cell_type": "code",
   "execution_count": 3,
   "metadata": {},
   "outputs": [
    {
     "name": "stdout",
     "output_type": "stream",
     "text": [
      "The number from the dice is 2\n"
     ]
    }
   ],
   "source": [
    "## task 1\n",
    "\n",
    "#When the programme runs, it randomly choose a number between 1 and 6\n",
    "#The programme will print what number it is\n",
    "from numpy import random\n",
    "# you will need to set the min and max number that your dice can produce\n",
    "#For the average of die and minimum of 1 and maximum of 6\n",
    "#It should then asked you if you would like to roll again\n",
    "ask_roll_again = \"yes\"\n",
    "while ask_roll_again == \"yes\" or ask_roll_again ==\"Yes\" or ask_roll_again == \"y\":\n",
    "    x = random.randint(1,7)\n",
    "    print(\"The number from the dice is\", x)\n",
    "    ask_roll_again = str(input(\"Would you like to roll the dice again, yes or no?\"))\n"
   ]
  },
  {
   "cell_type": "code",
   "execution_count": 23,
   "metadata": {},
   "outputs": [
    {
     "name": "stdout",
     "output_type": "stream",
     "text": [
      "Too low\n",
      "Too low\n",
      "you guessed it right!!\n"
     ]
    }
   ],
   "source": [
    "## task 2\n",
    "\n",
    "import random\n",
    "n = random.randrange(1,10)\n",
    "guess = int(input(\"Enter any number: \"))\n",
    "while n!= guess:\n",
    "    if guess < n:\n",
    "        print(\"Too low\")\n",
    "        guess = int(input(\"Enter number again: \"))\n",
    "    elif guess > n:\n",
    "        print(\"Too high!\")\n",
    "        guess = int(input(\"Enter number again: \"))\n",
    "    else:\n",
    "      break\n",
    "print(\"you guessed it right!!\")"
   ]
  },
  {
   "cell_type": "code",
   "execution_count": 21,
   "metadata": {},
   "outputs": [
    {
     "name": "stdout",
     "output_type": "stream",
     "text": [
      " Most doctors agree that bicycle of 1 is a/an 2 form of exercise. 3 a bicycle enables you to develop your 4 muscles as well as 5 increase the rate of a 6 beat. More 7 around the world 8 bicycles than drive 9 No matter what kind of 10 you 11 always be sure to wear a/an 12 helmet. Make sure to have 13 reflectors too! \n"
     ]
    }
   ],
   "source": [
    "## task 3\n",
    "\n",
    "verb_1 = input(\"Enter a verb of choice, and press enter:\")\n",
    "adj_1 = input(\"Enter an adjective of choice, and press enter:\")\n",
    "verb_2 = input(\"Enter second verb of choice, and press enter:\")\n",
    "body_part = input(\"Enter a body part name of choice, and press enter:\")\n",
    "adverb = input(\"Enter an adverb of choice, and press enter:\")\n",
    "body_part_2 = input(\"Enter any body name of your choice,and press enter:\")\n",
    "noun = input(\"Enter a noun of choice, and press enter:\")\n",
    "verb_3 = input(\"Enter the third verb of choice, and press enter:\")\n",
    "animal = input(\"Enter name of any animal of choice, and press enter:\")\n",
    "noun_2 = input(\"Enter an noun of choice , and press enter:\")\n",
    "verb_4 = input(\"Enter the fourth verb of choice, and press enter:\")\n",
    "adj_2 = input(\"Enter an adjective of chioce, and press enter:\")\n",
    "color = input(\"Enter any color name, and press enter:\")\n",
    "\n",
    "story = \" Most doctors agree that bicycle of \" + verb_1 + \" is a/an \" + adj_1 + \" form of exercise. \" + verb_2 + \" a bicycle enables you to develop your \" + body_part + \" muscles as well as \" + adverb + \" increase the rate of a \" + body_part_2 + \" beat. More \" + noun + \" around the world \" + verb_3 + \" bicycles than drive \" + animal + \" No matter what kind of \"+ noun_2 + \" you \" + verb_4 + \" always be sure to wear a/an \" + adj_2 + \" helmet. Make sure to have \" + color + \" reflectors too! \"\n",
    "print(story)"
   ]
  }
 ],
 "metadata": {
  "kernelspec": {
   "display_name": "base",
   "language": "python",
   "name": "python3"
  },
  "language_info": {
   "codemirror_mode": {
    "name": "ipython",
    "version": 3
   },
   "file_extension": ".py",
   "mimetype": "text/x-python",
   "name": "python",
   "nbconvert_exporter": "python",
   "pygments_lexer": "ipython3",
   "version": "3.8.3"
  },
  "orig_nbformat": 4,
  "vscode": {
   "interpreter": {
    "hash": "e4cce46d6be9934fbd27f9ca0432556941ea5bdf741d4f4d64c6cd7f8dfa8fba"
   }
  }
 },
 "nbformat": 4,
 "nbformat_minor": 2
}
