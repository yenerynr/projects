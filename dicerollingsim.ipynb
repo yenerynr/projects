{
 "cells": [
  {
   "cell_type": "code",
   "execution_count": null,
   "metadata": {},
   "outputs": [],
   "source": [
    "## task 1\n",
    "\n",
    "#When the programme runs, it randomly choose a number between 1 and 6\n",
    "#The programme will print what number it is\n",
    "from numpy import random\n",
    "# you will need to set the min and max number that your dice can produce\n",
    "#For the average of die and minimum of 1 and maximum of 6\n",
    "#It should then asked you if you would like to roll again\n",
    "ask_roll_again = \"yes\"\n",
    "while ask_roll_again == \"yes\" or ask_roll_again ==\"Yes\" or ask_roll_again == \"y\":\n",
    "    x = random.randint(1,7)\n",
    "    print(\"The number from the dice is\", x)\n",
    "    ask_roll_again = str(input(\"Would you like to roll the dice again, yes or no?\"))"
   ]
  }
 ],
 "metadata": {
  "kernelspec": {
   "display_name": "base",
   "language": "python",
   "name": "python3"
  },
  "language_info": {
   "name": "python",
   "version": "3.8.3 (default, Jul  2 2020, 17:30:36) [MSC v.1916 64 bit (AMD64)]"
  },
  "orig_nbformat": 4,
  "vscode": {
   "interpreter": {
    "hash": "e4cce46d6be9934fbd27f9ca0432556941ea5bdf741d4f4d64c6cd7f8dfa8fba"
   }
  }
 },
 "nbformat": 4,
 "nbformat_minor": 2
}
